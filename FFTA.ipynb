# area.py
# Author: Meteor Song
# Date: 2023/06/09

# It is a class for area in FFTA. which is a server for the game, built with flask.

import json
import random
import time

from flask import Flask, request, jsonify

app = Flask(__name__)

@app.route('/area', methods=['GET'])
def get_area():
    return jsonify({'area': area})

# FFTA

>   FFTA is short for Fictional Football Team Area. It is a web application that allows users to create their own football team and manage it. The application is built with pygame and flask. 

# Features

-   Diving into the fiction world, meet the characters and create your own team.
-   Like the classical SRPG [FFTA](https://en.wikipedia.org/wiki/Final_Fantasy_Tactics_Advance), the game is turn-based. You can choose to attack, defend or use skills to win the game.
-   Unlike the tradioinal SRPG, the game is played in a football field. You can move your characters to different positions and pass the ball to your teammates.
