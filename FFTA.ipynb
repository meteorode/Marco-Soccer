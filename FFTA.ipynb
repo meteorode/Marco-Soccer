{
 "cells": [
  {
   "cell_type": "code",
   "execution_count": null,
   "metadata": {},
   "outputs": [],
   "source": [
    "# area.py\n",
    "# Author: Meteor Song\n",
    "# Date: 2023/06/09\n",
    "\n",
    "# It is a class for area in FFTA. which is a server for the game, built with flask.\n",
    "\n",
    "import json\n",
    "import random\n",
    "import time\n",
    "\n",
    "from flask import Flask, request, jsonify\n",
    "\n",
    "app = Flask(__name__)\n",
    "\n",
    "@app.route('/area', methods=['GET'])\n",
    "def get_area():\n",
    "    return jsonify({'area': area})\n",
    "\n"
   ]
  },
  {
   "attachments": {},
   "cell_type": "markdown",
   "metadata": {},
   "source": [
    "# FFTA\n",
    "\n",
    ">   FFTA is short for Fictional Football Team Area. It is a web application that allows users to create their own football team and manage it. The application is built with pygame and flask. \n",
    "\n",
    "# Features\n",
    "\n",
    "-   Diving into the fiction world, meet the characters and create your own team.\n",
    "-   Like the classical SRPG [FFTA](https://en.wikipedia.org/wiki/Final_Fantasy_Tactics_Advance), the game is turn-based. You can choose to attack, defend or use skills to win the game.\n",
    "-   Unlike the tradioinal SRPG, the game is played in a football field. You can move your characters to different positions and pass the ball to your teammates."
   ]
  },
  {
   "attachments": {},
   "cell_type": "markdown",
   "metadata": {},
   "source": []
  }
 ],
 "metadata": {
  "kernelspec": {
   "display_name": "Python 3",
   "language": "python",
   "name": "python3"
  },
  "language_info": {
   "name": "python",
   "version": "3.10.8"
  },
  "orig_nbformat": 4
 },
 "nbformat": 4,
 "nbformat_minor": 2
}
